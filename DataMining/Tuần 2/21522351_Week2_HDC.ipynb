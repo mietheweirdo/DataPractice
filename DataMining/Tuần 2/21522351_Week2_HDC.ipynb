{
 "cells": [
  {
   "cell_type": "markdown",
   "id": "a5984996-1647-450c-b9f7-8146775e954d",
   "metadata": {},
   "source": [
    "Nguyễn Ngọc Hà My - MSSV: 21522351"
   ]
  },
  {
   "cell_type": "markdown",
   "id": "b3237df7-8d51-4ee6-8f5a-8de1b775c1eb",
   "metadata": {},
   "source": [
    "Câu 1"
   ]
  },
  {
   "cell_type": "code",
   "execution_count": 2,
   "id": "5bac9770-ba4c-49bf-aa10-71a3cb094fe6",
   "metadata": {},
   "outputs": [],
   "source": [
    "import pandas as pd\n",
    "import seaborn as sns\n",
    "import matplotlib.pyplot as plt\n",
    "%matplotlib inline\n",
    "from mlxtend.frequent_patterns import apriori\n",
    "from mlxtend.frequent_patterns import association_rules"
   ]
  },
  {
   "cell_type": "code",
   "execution_count": 3,
   "id": "2b105170",
   "metadata": {},
   "outputs": [],
   "source": [
    "df = pd.read_excel(\"Online Retail.xlsx\")"
   ]
  },
  {
   "cell_type": "code",
   "execution_count": 4,
   "id": "b0412677",
   "metadata": {},
   "outputs": [
    {
     "data": {
      "text/html": [
       "<div>\n",
       "<style scoped>\n",
       "    .dataframe tbody tr th:only-of-type {\n",
       "        vertical-align: middle;\n",
       "    }\n",
       "\n",
       "    .dataframe tbody tr th {\n",
       "        vertical-align: top;\n",
       "    }\n",
       "\n",
       "    .dataframe thead th {\n",
       "        text-align: right;\n",
       "    }\n",
       "</style>\n",
       "<table border=\"1\" class=\"dataframe\">\n",
       "  <thead>\n",
       "    <tr style=\"text-align: right;\">\n",
       "      <th></th>\n",
       "      <th>InvoiceNo</th>\n",
       "      <th>StockCode</th>\n",
       "      <th>Description</th>\n",
       "      <th>Quantity</th>\n",
       "      <th>InvoiceDate</th>\n",
       "      <th>UnitPrice</th>\n",
       "      <th>CustomerID</th>\n",
       "      <th>Country</th>\n",
       "    </tr>\n",
       "  </thead>\n",
       "  <tbody>\n",
       "    <tr>\n",
       "      <th>0</th>\n",
       "      <td>536365</td>\n",
       "      <td>85123A</td>\n",
       "      <td>WHITE HANGING HEART T-LIGHT HOLDER</td>\n",
       "      <td>6</td>\n",
       "      <td>2010-12-01 08:26:00</td>\n",
       "      <td>2.55</td>\n",
       "      <td>17850.0</td>\n",
       "      <td>United Kingdom</td>\n",
       "    </tr>\n",
       "    <tr>\n",
       "      <th>1</th>\n",
       "      <td>536365</td>\n",
       "      <td>71053</td>\n",
       "      <td>WHITE METAL LANTERN</td>\n",
       "      <td>6</td>\n",
       "      <td>2010-12-01 08:26:00</td>\n",
       "      <td>3.39</td>\n",
       "      <td>17850.0</td>\n",
       "      <td>United Kingdom</td>\n",
       "    </tr>\n",
       "    <tr>\n",
       "      <th>2</th>\n",
       "      <td>536365</td>\n",
       "      <td>84406B</td>\n",
       "      <td>CREAM CUPID HEARTS COAT HANGER</td>\n",
       "      <td>8</td>\n",
       "      <td>2010-12-01 08:26:00</td>\n",
       "      <td>2.75</td>\n",
       "      <td>17850.0</td>\n",
       "      <td>United Kingdom</td>\n",
       "    </tr>\n",
       "    <tr>\n",
       "      <th>3</th>\n",
       "      <td>536365</td>\n",
       "      <td>84029G</td>\n",
       "      <td>KNITTED UNION FLAG HOT WATER BOTTLE</td>\n",
       "      <td>6</td>\n",
       "      <td>2010-12-01 08:26:00</td>\n",
       "      <td>3.39</td>\n",
       "      <td>17850.0</td>\n",
       "      <td>United Kingdom</td>\n",
       "    </tr>\n",
       "    <tr>\n",
       "      <th>4</th>\n",
       "      <td>536365</td>\n",
       "      <td>84029E</td>\n",
       "      <td>RED WOOLLY HOTTIE WHITE HEART.</td>\n",
       "      <td>6</td>\n",
       "      <td>2010-12-01 08:26:00</td>\n",
       "      <td>3.39</td>\n",
       "      <td>17850.0</td>\n",
       "      <td>United Kingdom</td>\n",
       "    </tr>\n",
       "  </tbody>\n",
       "</table>\n",
       "</div>"
      ],
      "text/plain": [
       "  InvoiceNo StockCode                          Description  Quantity  \\\n",
       "0    536365    85123A   WHITE HANGING HEART T-LIGHT HOLDER         6   \n",
       "1    536365     71053                  WHITE METAL LANTERN         6   \n",
       "2    536365    84406B       CREAM CUPID HEARTS COAT HANGER         8   \n",
       "3    536365    84029G  KNITTED UNION FLAG HOT WATER BOTTLE         6   \n",
       "4    536365    84029E       RED WOOLLY HOTTIE WHITE HEART.         6   \n",
       "\n",
       "          InvoiceDate  UnitPrice  CustomerID         Country  \n",
       "0 2010-12-01 08:26:00       2.55     17850.0  United Kingdom  \n",
       "1 2010-12-01 08:26:00       3.39     17850.0  United Kingdom  \n",
       "2 2010-12-01 08:26:00       2.75     17850.0  United Kingdom  \n",
       "3 2010-12-01 08:26:00       3.39     17850.0  United Kingdom  \n",
       "4 2010-12-01 08:26:00       3.39     17850.0  United Kingdom  "
      ]
     },
     "execution_count": 4,
     "metadata": {},
     "output_type": "execute_result"
    }
   ],
   "source": [
    "df.head()"
   ]
  },
  {
   "cell_type": "code",
   "execution_count": 5,
   "id": "4149335c-dc36-4302-8fe8-cf45e88f5677",
   "metadata": {},
   "outputs": [
    {
     "name": "stdout",
     "output_type": "stream",
     "text": [
      "<class 'pandas.core.frame.DataFrame'>\n",
      "RangeIndex: 541909 entries, 0 to 541908\n",
      "Data columns (total 8 columns):\n",
      " #   Column       Non-Null Count   Dtype         \n",
      "---  ------       --------------   -----         \n",
      " 0   InvoiceNo    541909 non-null  object        \n",
      " 1   StockCode    541909 non-null  object        \n",
      " 2   Description  540455 non-null  object        \n",
      " 3   Quantity     541909 non-null  int64         \n",
      " 4   InvoiceDate  541909 non-null  datetime64[ns]\n",
      " 5   UnitPrice    541909 non-null  float64       \n",
      " 6   CustomerID   406829 non-null  float64       \n",
      " 7   Country      541909 non-null  object        \n",
      "dtypes: datetime64[ns](1), float64(2), int64(1), object(4)\n",
      "memory usage: 33.1+ MB\n"
     ]
    }
   ],
   "source": [
    "df.info()"
   ]
  },
  {
   "cell_type": "markdown",
   "id": "aa563708",
   "metadata": {},
   "source": [
    "Câu 2"
   ]
  },
  {
   "cell_type": "code",
   "execution_count": 6,
   "id": "726b483e",
   "metadata": {},
   "outputs": [],
   "source": [
    "df['Description']=df['Description'].str.strip() #bỏ kí tự trống bằng strip()\n",
    "df.dropna(axis=0,subset=['InvoiceNo'],inplace=True)\n",
    "df['InvoiceNo']=df['InvoiceNo'].astype('str')"
   ]
  },
  {
   "cell_type": "code",
   "execution_count": 7,
   "id": "9fdab813",
   "metadata": {},
   "outputs": [
    {
     "data": {
      "text/html": [
       "<div>\n",
       "<style scoped>\n",
       "    .dataframe tbody tr th:only-of-type {\n",
       "        vertical-align: middle;\n",
       "    }\n",
       "\n",
       "    .dataframe tbody tr th {\n",
       "        vertical-align: top;\n",
       "    }\n",
       "\n",
       "    .dataframe thead th {\n",
       "        text-align: right;\n",
       "    }\n",
       "</style>\n",
       "<table border=\"1\" class=\"dataframe\">\n",
       "  <thead>\n",
       "    <tr style=\"text-align: right;\">\n",
       "      <th></th>\n",
       "      <th>InvoiceNo</th>\n",
       "      <th>StockCode</th>\n",
       "      <th>Description</th>\n",
       "      <th>Quantity</th>\n",
       "      <th>InvoiceDate</th>\n",
       "      <th>UnitPrice</th>\n",
       "      <th>CustomerID</th>\n",
       "      <th>Country</th>\n",
       "    </tr>\n",
       "  </thead>\n",
       "  <tbody>\n",
       "    <tr>\n",
       "      <th>0</th>\n",
       "      <td>536365</td>\n",
       "      <td>85123A</td>\n",
       "      <td>WHITE HANGING HEART T-LIGHT HOLDER</td>\n",
       "      <td>6</td>\n",
       "      <td>2010-12-01 08:26:00</td>\n",
       "      <td>2.55</td>\n",
       "      <td>17850.0</td>\n",
       "      <td>United Kingdom</td>\n",
       "    </tr>\n",
       "    <tr>\n",
       "      <th>1</th>\n",
       "      <td>536365</td>\n",
       "      <td>71053</td>\n",
       "      <td>WHITE METAL LANTERN</td>\n",
       "      <td>6</td>\n",
       "      <td>2010-12-01 08:26:00</td>\n",
       "      <td>3.39</td>\n",
       "      <td>17850.0</td>\n",
       "      <td>United Kingdom</td>\n",
       "    </tr>\n",
       "    <tr>\n",
       "      <th>2</th>\n",
       "      <td>536365</td>\n",
       "      <td>84406B</td>\n",
       "      <td>CREAM CUPID HEARTS COAT HANGER</td>\n",
       "      <td>8</td>\n",
       "      <td>2010-12-01 08:26:00</td>\n",
       "      <td>2.75</td>\n",
       "      <td>17850.0</td>\n",
       "      <td>United Kingdom</td>\n",
       "    </tr>\n",
       "    <tr>\n",
       "      <th>3</th>\n",
       "      <td>536365</td>\n",
       "      <td>84029G</td>\n",
       "      <td>KNITTED UNION FLAG HOT WATER BOTTLE</td>\n",
       "      <td>6</td>\n",
       "      <td>2010-12-01 08:26:00</td>\n",
       "      <td>3.39</td>\n",
       "      <td>17850.0</td>\n",
       "      <td>United Kingdom</td>\n",
       "    </tr>\n",
       "    <tr>\n",
       "      <th>4</th>\n",
       "      <td>536365</td>\n",
       "      <td>84029E</td>\n",
       "      <td>RED WOOLLY HOTTIE WHITE HEART.</td>\n",
       "      <td>6</td>\n",
       "      <td>2010-12-01 08:26:00</td>\n",
       "      <td>3.39</td>\n",
       "      <td>17850.0</td>\n",
       "      <td>United Kingdom</td>\n",
       "    </tr>\n",
       "    <tr>\n",
       "      <th>5</th>\n",
       "      <td>536365</td>\n",
       "      <td>22752</td>\n",
       "      <td>SET 7 BABUSHKA NESTING BOXES</td>\n",
       "      <td>2</td>\n",
       "      <td>2010-12-01 08:26:00</td>\n",
       "      <td>7.65</td>\n",
       "      <td>17850.0</td>\n",
       "      <td>United Kingdom</td>\n",
       "    </tr>\n",
       "    <tr>\n",
       "      <th>6</th>\n",
       "      <td>536365</td>\n",
       "      <td>21730</td>\n",
       "      <td>GLASS STAR FROSTED T-LIGHT HOLDER</td>\n",
       "      <td>6</td>\n",
       "      <td>2010-12-01 08:26:00</td>\n",
       "      <td>4.25</td>\n",
       "      <td>17850.0</td>\n",
       "      <td>United Kingdom</td>\n",
       "    </tr>\n",
       "    <tr>\n",
       "      <th>7</th>\n",
       "      <td>536366</td>\n",
       "      <td>22633</td>\n",
       "      <td>HAND WARMER UNION JACK</td>\n",
       "      <td>6</td>\n",
       "      <td>2010-12-01 08:28:00</td>\n",
       "      <td>1.85</td>\n",
       "      <td>17850.0</td>\n",
       "      <td>United Kingdom</td>\n",
       "    </tr>\n",
       "    <tr>\n",
       "      <th>8</th>\n",
       "      <td>536366</td>\n",
       "      <td>22632</td>\n",
       "      <td>HAND WARMER RED POLKA DOT</td>\n",
       "      <td>6</td>\n",
       "      <td>2010-12-01 08:28:00</td>\n",
       "      <td>1.85</td>\n",
       "      <td>17850.0</td>\n",
       "      <td>United Kingdom</td>\n",
       "    </tr>\n",
       "    <tr>\n",
       "      <th>9</th>\n",
       "      <td>536367</td>\n",
       "      <td>84879</td>\n",
       "      <td>ASSORTED COLOUR BIRD ORNAMENT</td>\n",
       "      <td>32</td>\n",
       "      <td>2010-12-01 08:34:00</td>\n",
       "      <td>1.69</td>\n",
       "      <td>13047.0</td>\n",
       "      <td>United Kingdom</td>\n",
       "    </tr>\n",
       "  </tbody>\n",
       "</table>\n",
       "</div>"
      ],
      "text/plain": [
       "  InvoiceNo StockCode                          Description  Quantity  \\\n",
       "0    536365    85123A   WHITE HANGING HEART T-LIGHT HOLDER         6   \n",
       "1    536365     71053                  WHITE METAL LANTERN         6   \n",
       "2    536365    84406B       CREAM CUPID HEARTS COAT HANGER         8   \n",
       "3    536365    84029G  KNITTED UNION FLAG HOT WATER BOTTLE         6   \n",
       "4    536365    84029E       RED WOOLLY HOTTIE WHITE HEART.         6   \n",
       "5    536365     22752         SET 7 BABUSHKA NESTING BOXES         2   \n",
       "6    536365     21730    GLASS STAR FROSTED T-LIGHT HOLDER         6   \n",
       "7    536366     22633               HAND WARMER UNION JACK         6   \n",
       "8    536366     22632            HAND WARMER RED POLKA DOT         6   \n",
       "9    536367     84879        ASSORTED COLOUR BIRD ORNAMENT        32   \n",
       "\n",
       "          InvoiceDate  UnitPrice  CustomerID         Country  \n",
       "0 2010-12-01 08:26:00       2.55     17850.0  United Kingdom  \n",
       "1 2010-12-01 08:26:00       3.39     17850.0  United Kingdom  \n",
       "2 2010-12-01 08:26:00       2.75     17850.0  United Kingdom  \n",
       "3 2010-12-01 08:26:00       3.39     17850.0  United Kingdom  \n",
       "4 2010-12-01 08:26:00       3.39     17850.0  United Kingdom  \n",
       "5 2010-12-01 08:26:00       7.65     17850.0  United Kingdom  \n",
       "6 2010-12-01 08:26:00       4.25     17850.0  United Kingdom  \n",
       "7 2010-12-01 08:28:00       1.85     17850.0  United Kingdom  \n",
       "8 2010-12-01 08:28:00       1.85     17850.0  United Kingdom  \n",
       "9 2010-12-01 08:34:00       1.69     13047.0  United Kingdom  "
      ]
     },
     "execution_count": 7,
     "metadata": {},
     "output_type": "execute_result"
    }
   ],
   "source": [
    "df.head(10)"
   ]
  },
  {
   "cell_type": "markdown",
   "id": "5cc4e1b2",
   "metadata": {},
   "source": [
    "3. Trong dữ liệu đã cho, có một số hóa đơn là hóa đơn tín dụng thay vì là hóa đơn ghi nợ vì vậy hãy xóa những hóa đơn đó. Chúng được xác định với ký tự ‘C’ chứa trong số hóa đơn InvoiceNo.\n",
    "Có thể xem một ví dụ về loại hóa đơn tín dụng bằng câu lệnh như sau"
   ]
  },
  {
   "cell_type": "code",
   "execution_count": 8,
   "id": "ac9bb56a",
   "metadata": {},
   "outputs": [
    {
     "data": {
      "text/html": [
       "<div>\n",
       "<style scoped>\n",
       "    .dataframe tbody tr th:only-of-type {\n",
       "        vertical-align: middle;\n",
       "    }\n",
       "\n",
       "    .dataframe tbody tr th {\n",
       "        vertical-align: top;\n",
       "    }\n",
       "\n",
       "    .dataframe thead th {\n",
       "        text-align: right;\n",
       "    }\n",
       "</style>\n",
       "<table border=\"1\" class=\"dataframe\">\n",
       "  <thead>\n",
       "    <tr style=\"text-align: right;\">\n",
       "      <th></th>\n",
       "      <th>InvoiceNo</th>\n",
       "      <th>StockCode</th>\n",
       "      <th>Description</th>\n",
       "      <th>Quantity</th>\n",
       "      <th>InvoiceDate</th>\n",
       "      <th>UnitPrice</th>\n",
       "      <th>CustomerID</th>\n",
       "      <th>Country</th>\n",
       "    </tr>\n",
       "  </thead>\n",
       "  <tbody>\n",
       "    <tr>\n",
       "      <th>141</th>\n",
       "      <td>C536379</td>\n",
       "      <td>D</td>\n",
       "      <td>Discount</td>\n",
       "      <td>-1</td>\n",
       "      <td>2010-12-01 09:41:00</td>\n",
       "      <td>27.50</td>\n",
       "      <td>14527.0</td>\n",
       "      <td>United Kingdom</td>\n",
       "    </tr>\n",
       "    <tr>\n",
       "      <th>154</th>\n",
       "      <td>C536383</td>\n",
       "      <td>35004C</td>\n",
       "      <td>SET OF 3 COLOURED  FLYING DUCKS</td>\n",
       "      <td>-1</td>\n",
       "      <td>2010-12-01 09:49:00</td>\n",
       "      <td>4.65</td>\n",
       "      <td>15311.0</td>\n",
       "      <td>United Kingdom</td>\n",
       "    </tr>\n",
       "    <tr>\n",
       "      <th>235</th>\n",
       "      <td>C536391</td>\n",
       "      <td>22556</td>\n",
       "      <td>PLASTERS IN TIN CIRCUS PARADE</td>\n",
       "      <td>-12</td>\n",
       "      <td>2010-12-01 10:24:00</td>\n",
       "      <td>1.65</td>\n",
       "      <td>17548.0</td>\n",
       "      <td>United Kingdom</td>\n",
       "    </tr>\n",
       "    <tr>\n",
       "      <th>236</th>\n",
       "      <td>C536391</td>\n",
       "      <td>21984</td>\n",
       "      <td>PACK OF 12 PINK PAISLEY TISSUES</td>\n",
       "      <td>-24</td>\n",
       "      <td>2010-12-01 10:24:00</td>\n",
       "      <td>0.29</td>\n",
       "      <td>17548.0</td>\n",
       "      <td>United Kingdom</td>\n",
       "    </tr>\n",
       "    <tr>\n",
       "      <th>237</th>\n",
       "      <td>C536391</td>\n",
       "      <td>21983</td>\n",
       "      <td>PACK OF 12 BLUE PAISLEY TISSUES</td>\n",
       "      <td>-24</td>\n",
       "      <td>2010-12-01 10:24:00</td>\n",
       "      <td>0.29</td>\n",
       "      <td>17548.0</td>\n",
       "      <td>United Kingdom</td>\n",
       "    </tr>\n",
       "  </tbody>\n",
       "</table>\n",
       "</div>"
      ],
      "text/plain": [
       "    InvoiceNo StockCode                      Description  Quantity  \\\n",
       "141   C536379         D                         Discount        -1   \n",
       "154   C536383    35004C  SET OF 3 COLOURED  FLYING DUCKS        -1   \n",
       "235   C536391     22556    PLASTERS IN TIN CIRCUS PARADE       -12   \n",
       "236   C536391     21984  PACK OF 12 PINK PAISLEY TISSUES       -24   \n",
       "237   C536391     21983  PACK OF 12 BLUE PAISLEY TISSUES       -24   \n",
       "\n",
       "            InvoiceDate  UnitPrice  CustomerID         Country  \n",
       "141 2010-12-01 09:41:00      27.50     14527.0  United Kingdom  \n",
       "154 2010-12-01 09:49:00       4.65     15311.0  United Kingdom  \n",
       "235 2010-12-01 10:24:00       1.65     17548.0  United Kingdom  \n",
       "236 2010-12-01 10:24:00       0.29     17548.0  United Kingdom  \n",
       "237 2010-12-01 10:24:00       0.29     17548.0  United Kingdom  "
      ]
     },
     "execution_count": 8,
     "metadata": {},
     "output_type": "execute_result"
    }
   ],
   "source": [
    "df[df.InvoiceNo.str.contains('C',na=False)].head()"
   ]
  },
  {
   "cell_type": "markdown",
   "id": "6cdecc54",
   "metadata": {},
   "source": [
    "Thống kê số dòng dữ liệu theo từng quốc gia, bằng câu lệnh sau và kết quả được thể hiện bằng biểu đồ"
   ]
  },
  {
   "cell_type": "code",
   "execution_count": 9,
   "id": "835f23e7",
   "metadata": {},
   "outputs": [
    {
     "data": {
      "text/plain": [
       "<Axes: ylabel='Country'>"
      ]
     },
     "execution_count": 9,
     "metadata": {},
     "output_type": "execute_result"
    },
    {
     "data": {
      "image/png": "[encoded data removed]",
      "text/plain": [
       "<Figure size 1500x1000 with 1 Axes>"
      ]
     },
     "metadata": {},
     "output_type": "display_data"
    }
   ],
   "source": [
    "df['Country'].value_counts().plot(kind='barh',figsize=(15,10))"
   ]
  },
  {
   "cell_type": "markdown",
   "id": "d2e69fc4",
   "metadata": {},
   "source": [
    "5. Lấy ra dữ liệu hóa đơn từ nước Anh ‘United Kingdom’ và gom nhóm cột Số lượng mua (Quantity) theo Số hóa đơn (InvoiceNo) và Tên mặt hàng (Description).\n",
    "Chỉ xét các hóa đơn từ nước Anh và nhóm dữ liệu theo Số hóa đơn và Tên mặt hàng"
   ]
  },
  {
   "cell_type": "code",
   "execution_count": 10,
   "id": "a6327f2e",
   "metadata": {},
   "outputs": [],
   "source": [
    "basket = df[df['Country']==\"United Kingdom\"].groupby(['InvoiceNo','Description'])['Quantity']"
   ]
  },
  {
   "cell_type": "markdown",
   "id": "78ce744d",
   "metadata": {},
   "source": [
    "6. Chuyển đổi dữ liệu về dạng hot encoding, với mỗi dòng dữ liệu là một hóa đơn.\n",
    "Chuyển đổi dữ liệu về dạng hot encoding, với mỗi dòng dữ liệu là một hóa đơn"
   ]
  },
  {
   "cell_type": "code",
   "execution_count": 11,
   "id": "827af7f4",
   "metadata": {},
   "outputs": [],
   "source": [
    "basket = basket.sum().unstack().reset_index().fillna(0).set_index('InvoiceNo')"
   ]
  },
  {
   "cell_type": "markdown",
   "id": "12ddce17",
   "metadata": {},
   "source": [
    "Xem dữ liệu sau khi chuyển về dạng hot encoding"
   ]
  },
  {
   "cell_type": "code",
   "execution_count": 12,
   "id": "43433242",
   "metadata": {},
   "outputs": [
    {
     "data": {
      "text/html": [
       "<div>\n",
       "<style scoped>\n",
       "    .dataframe tbody tr th:only-of-type {\n",
       "        vertical-align: middle;\n",
       "    }\n",
       "\n",
       "    .dataframe tbody tr th {\n",
       "        vertical-align: top;\n",
       "    }\n",
       "\n",
       "    .dataframe thead th {\n",
       "        text-align: right;\n",
       "    }\n",
       "</style>\n",
       "<table border=\"1\" class=\"dataframe\">\n",
       "  <thead>\n",
       "    <tr style=\"text-align: right;\">\n",
       "      <th>Description</th>\n",
       "      <th>*Boombox Ipod Classic</th>\n",
       "      <th>*USB Office Mirror Ball</th>\n",
       "      <th>10 COLOUR SPACEBOY PEN</th>\n",
       "      <th>12 COLOURED PARTY BALLOONS</th>\n",
       "      <th>12 DAISY PEGS IN WOOD BOX</th>\n",
       "      <th>12 EGG HOUSE PAINTED WOOD</th>\n",
       "      <th>12 HANGING EGGS HAND PAINTED</th>\n",
       "      <th>12 IVORY ROSE PEG PLACE SETTINGS</th>\n",
       "      <th>12 MESSAGE CARDS WITH ENVELOPES</th>\n",
       "      <th>12 PENCIL SMALL TUBE WOODLAND</th>\n",
       "      <th>...</th>\n",
       "      <th>wrongly coded 20713</th>\n",
       "      <th>wrongly coded 23343</th>\n",
       "      <th>wrongly coded-23343</th>\n",
       "      <th>wrongly marked</th>\n",
       "      <th>wrongly marked 23343</th>\n",
       "      <th>wrongly marked carton 22804</th>\n",
       "      <th>wrongly marked. 23343 in box</th>\n",
       "      <th>wrongly sold (22719) barcode</th>\n",
       "      <th>wrongly sold as sets</th>\n",
       "      <th>wrongly sold sets</th>\n",
       "    </tr>\n",
       "    <tr>\n",
       "      <th>InvoiceNo</th>\n",
       "      <th></th>\n",
       "      <th></th>\n",
       "      <th></th>\n",
       "      <th></th>\n",
       "      <th></th>\n",
       "      <th></th>\n",
       "      <th></th>\n",
       "      <th></th>\n",
       "      <th></th>\n",
       "      <th></th>\n",
       "      <th></th>\n",
       "      <th></th>\n",
       "      <th></th>\n",
       "      <th></th>\n",
       "      <th></th>\n",
       "      <th></th>\n",
       "      <th></th>\n",
       "      <th></th>\n",
       "      <th></th>\n",
       "      <th></th>\n",
       "      <th></th>\n",
       "    </tr>\n",
       "  </thead>\n",
       "  <tbody>\n",
       "    <tr>\n",
       "      <th>536365</th>\n",
       "      <td>0.0</td>\n",
       "      <td>0.0</td>\n",
       "      <td>0.0</td>\n",
       "      <td>0.0</td>\n",
       "      <td>0.0</td>\n",
       "      <td>0.0</td>\n",
       "      <td>0.0</td>\n",
       "      <td>0.0</td>\n",
       "      <td>0.0</td>\n",
       "      <td>0.0</td>\n",
       "      <td>...</td>\n",
       "      <td>0.0</td>\n",
       "      <td>0.0</td>\n",
       "      <td>0.0</td>\n",
       "      <td>0.0</td>\n",
       "      <td>0.0</td>\n",
       "      <td>0.0</td>\n",
       "      <td>0.0</td>\n",
       "      <td>0.0</td>\n",
       "      <td>0.0</td>\n",
       "      <td>0.0</td>\n",
       "    </tr>\n",
       "    <tr>\n",
       "      <th>536366</th>\n",
       "      <td>0.0</td>\n",
       "      <td>0.0</td>\n",
       "      <td>0.0</td>\n",
       "      <td>0.0</td>\n",
       "      <td>0.0</td>\n",
       "      <td>0.0</td>\n",
       "      <td>0.0</td>\n",
       "      <td>0.0</td>\n",
       "      <td>0.0</td>\n",
       "      <td>0.0</td>\n",
       "      <td>...</td>\n",
       "      <td>0.0</td>\n",
       "      <td>0.0</td>\n",
       "      <td>0.0</td>\n",
       "      <td>0.0</td>\n",
       "      <td>0.0</td>\n",
       "      <td>0.0</td>\n",
       "      <td>0.0</td>\n",
       "      <td>0.0</td>\n",
       "      <td>0.0</td>\n",
       "      <td>0.0</td>\n",
       "    </tr>\n",
       "    <tr>\n",
       "      <th>536367</th>\n",
       "      <td>0.0</td>\n",
       "      <td>0.0</td>\n",
       "      <td>0.0</td>\n",
       "      <td>0.0</td>\n",
       "      <td>0.0</td>\n",
       "      <td>0.0</td>\n",
       "      <td>0.0</td>\n",
       "      <td>0.0</td>\n",
       "      <td>0.0</td>\n",
       "      <td>0.0</td>\n",
       "      <td>...</td>\n",
       "      <td>0.0</td>\n",
       "      <td>0.0</td>\n",
       "      <td>0.0</td>\n",
       "      <td>0.0</td>\n",
       "      <td>0.0</td>\n",
       "      <td>0.0</td>\n",
       "      <td>0.0</td>\n",
       "      <td>0.0</td>\n",
       "      <td>0.0</td>\n",
       "      <td>0.0</td>\n",
       "    </tr>\n",
       "    <tr>\n",
       "      <th>536368</th>\n",
       "      <td>0.0</td>\n",
       "      <td>0.0</td>\n",
       "      <td>0.0</td>\n",
       "      <td>0.0</td>\n",
       "      <td>0.0</td>\n",
       "      <td>0.0</td>\n",
       "      <td>0.0</td>\n",
       "      <td>0.0</td>\n",
       "      <td>0.0</td>\n",
       "      <td>0.0</td>\n",
       "      <td>...</td>\n",
       "      <td>0.0</td>\n",
       "      <td>0.0</td>\n",
       "      <td>0.0</td>\n",
       "      <td>0.0</td>\n",
       "      <td>0.0</td>\n",
       "      <td>0.0</td>\n",
       "      <td>0.0</td>\n",
       "      <td>0.0</td>\n",
       "      <td>0.0</td>\n",
       "      <td>0.0</td>\n",
       "    </tr>\n",
       "    <tr>\n",
       "      <th>536369</th>\n",
       "      <td>0.0</td>\n",
       "      <td>0.0</td>\n",
       "      <td>0.0</td>\n",
       "      <td>0.0</td>\n",
       "      <td>0.0</td>\n",
       "      <td>0.0</td>\n",
       "      <td>0.0</td>\n",
       "      <td>0.0</td>\n",
       "      <td>0.0</td>\n",
       "      <td>0.0</td>\n",
       "      <td>...</td>\n",
       "      <td>0.0</td>\n",
       "      <td>0.0</td>\n",
       "      <td>0.0</td>\n",
       "      <td>0.0</td>\n",
       "      <td>0.0</td>\n",
       "      <td>0.0</td>\n",
       "      <td>0.0</td>\n",
       "      <td>0.0</td>\n",
       "      <td>0.0</td>\n",
       "      <td>0.0</td>\n",
       "    </tr>\n",
       "    <tr>\n",
       "      <th>536371</th>\n",
       "      <td>0.0</td>\n",
       "      <td>0.0</td>\n",
       "      <td>0.0</td>\n",
       "      <td>0.0</td>\n",
       "      <td>0.0</td>\n",
       "      <td>0.0</td>\n",
       "      <td>0.0</td>\n",
       "      <td>0.0</td>\n",
       "      <td>0.0</td>\n",
       "      <td>0.0</td>\n",
       "      <td>...</td>\n",
       "      <td>0.0</td>\n",
       "      <td>0.0</td>\n",
       "      <td>0.0</td>\n",
       "      <td>0.0</td>\n",
       "      <td>0.0</td>\n",
       "      <td>0.0</td>\n",
       "      <td>0.0</td>\n",
       "      <td>0.0</td>\n",
       "      <td>0.0</td>\n",
       "      <td>0.0</td>\n",
       "    </tr>\n",
       "    <tr>\n",
       "      <th>536372</th>\n",
       "      <td>0.0</td>\n",
       "      <td>0.0</td>\n",
       "      <td>0.0</td>\n",
       "      <td>0.0</td>\n",
       "      <td>0.0</td>\n",
       "      <td>0.0</td>\n",
       "      <td>0.0</td>\n",
       "      <td>0.0</td>\n",
       "      <td>0.0</td>\n",
       "      <td>0.0</td>\n",
       "      <td>...</td>\n",
       "      <td>0.0</td>\n",
       "      <td>0.0</td>\n",
       "      <td>0.0</td>\n",
       "      <td>0.0</td>\n",
       "      <td>0.0</td>\n",
       "      <td>0.0</td>\n",
       "      <td>0.0</td>\n",
       "      <td>0.0</td>\n",
       "      <td>0.0</td>\n",
       "      <td>0.0</td>\n",
       "    </tr>\n",
       "    <tr>\n",
       "      <th>536373</th>\n",
       "      <td>0.0</td>\n",
       "      <td>0.0</td>\n",
       "      <td>0.0</td>\n",
       "      <td>0.0</td>\n",
       "      <td>0.0</td>\n",
       "      <td>0.0</td>\n",
       "      <td>0.0</td>\n",
       "      <td>0.0</td>\n",
       "      <td>0.0</td>\n",
       "      <td>0.0</td>\n",
       "      <td>...</td>\n",
       "      <td>0.0</td>\n",
       "      <td>0.0</td>\n",
       "      <td>0.0</td>\n",
       "      <td>0.0</td>\n",
       "      <td>0.0</td>\n",
       "      <td>0.0</td>\n",
       "      <td>0.0</td>\n",
       "      <td>0.0</td>\n",
       "      <td>0.0</td>\n",
       "      <td>0.0</td>\n",
       "    </tr>\n",
       "    <tr>\n",
       "      <th>536374</th>\n",
       "      <td>0.0</td>\n",
       "      <td>0.0</td>\n",
       "      <td>0.0</td>\n",
       "      <td>0.0</td>\n",
       "      <td>0.0</td>\n",
       "      <td>0.0</td>\n",
       "      <td>0.0</td>\n",
       "      <td>0.0</td>\n",
       "      <td>0.0</td>\n",
       "      <td>0.0</td>\n",
       "      <td>...</td>\n",
       "      <td>0.0</td>\n",
       "      <td>0.0</td>\n",
       "      <td>0.0</td>\n",
       "      <td>0.0</td>\n",
       "      <td>0.0</td>\n",
       "      <td>0.0</td>\n",
       "      <td>0.0</td>\n",
       "      <td>0.0</td>\n",
       "      <td>0.0</td>\n",
       "      <td>0.0</td>\n",
       "    </tr>\n",
       "    <tr>\n",
       "      <th>536375</th>\n",
       "      <td>0.0</td>\n",
       "      <td>0.0</td>\n",
       "      <td>0.0</td>\n",
       "      <td>0.0</td>\n",
       "      <td>0.0</td>\n",
       "      <td>0.0</td>\n",
       "      <td>0.0</td>\n",
       "      <td>0.0</td>\n",
       "      <td>0.0</td>\n",
       "      <td>0.0</td>\n",
       "      <td>...</td>\n",
       "      <td>0.0</td>\n",
       "      <td>0.0</td>\n",
       "      <td>0.0</td>\n",
       "      <td>0.0</td>\n",
       "      <td>0.0</td>\n",
       "      <td>0.0</td>\n",
       "      <td>0.0</td>\n",
       "      <td>0.0</td>\n",
       "      <td>0.0</td>\n",
       "      <td>0.0</td>\n",
       "    </tr>\n",
       "  </tbody>\n",
       "</table>\n",
       "<p>10 rows × 4189 columns</p>\n",
       "</div>"
      ],
      "text/plain": [
       "Description  *Boombox Ipod Classic  *USB Office Mirror Ball  \\\n",
       "InvoiceNo                                                     \n",
       "536365                         0.0                      0.0   \n",
       "536366                         0.0                      0.0   \n",
       "536367                         0.0                      0.0   \n",
       "536368                         0.0                      0.0   \n",
       "536369                         0.0                      0.0   \n",
       "536371                         0.0                      0.0   \n",
       "536372                         0.0                      0.0   \n",
       "536373                         0.0                      0.0   \n",
       "536374                         0.0                      0.0   \n",
       "536375                         0.0                      0.0   \n",
       "\n",
       "Description  10 COLOUR SPACEBOY PEN  12 COLOURED PARTY BALLOONS  \\\n",
       "InvoiceNo                                                         \n",
       "536365                          0.0                         0.0   \n",
       "536366                          0.0                         0.0   \n",
       "536367                          0.0                         0.0   \n",
       "536368                          0.0                         0.0   \n",
       "536369                          0.0                         0.0   \n",
       "536371                          0.0                         0.0   \n",
       "536372                          0.0                         0.0   \n",
       "536373                          0.0                         0.0   \n",
       "536374                          0.0                         0.0   \n",
       "536375                          0.0                         0.0   \n",
       "\n",
       "Description  12 DAISY PEGS IN WOOD BOX  12 EGG HOUSE PAINTED WOOD  \\\n",
       "InvoiceNo                                                           \n",
       "536365                             0.0                        0.0   \n",
       "536366                             0.0                        0.0   \n",
       "536367                             0.0                        0.0   \n",
       "536368                             0.0                        0.0   \n",
       "536369                             0.0                        0.0   \n",
       "536371                             0.0                        0.0   \n",
       "536372                             0.0                        0.0   \n",
       "536373                             0.0                        0.0   \n",
       "536374                             0.0                        0.0   \n",
       "536375                             0.0                        0.0   \n",
       "\n",
       "Description  12 HANGING EGGS HAND PAINTED  12 IVORY ROSE PEG PLACE SETTINGS  \\\n",
       "InvoiceNo                                                                     \n",
       "536365                                0.0                               0.0   \n",
       "536366                                0.0                               0.0   \n",
       "536367                                0.0                               0.0   \n",
       "536368                                0.0                               0.0   \n",
       "536369                                0.0                               0.0   \n",
       "536371                                0.0                               0.0   \n",
       "536372                                0.0                               0.0   \n",
       "536373                                0.0                               0.0   \n",
       "536374                                0.0                               0.0   \n",
       "536375                                0.0                               0.0   \n",
       "\n",
       "Description  12 MESSAGE CARDS WITH ENVELOPES  12 PENCIL SMALL TUBE WOODLAND  \\\n",
       "InvoiceNo                                                                     \n",
       "536365                                   0.0                            0.0   \n",
       "536366                                   0.0                            0.0   \n",
       "536367                                   0.0                            0.0   \n",
       "536368                                   0.0                            0.0   \n",
       "536369                                   0.0                            0.0   \n",
       "536371                                   0.0                            0.0   \n",
       "536372                                   0.0                            0.0   \n",
       "536373                                   0.0                            0.0   \n",
       "536374                                   0.0                            0.0   \n",
       "536375                                   0.0                            0.0   \n",
       "\n",
       "Description  ...  wrongly coded 20713  wrongly coded 23343  \\\n",
       "InvoiceNo    ...                                             \n",
       "536365       ...                  0.0                  0.0   \n",
       "536366       ...                  0.0                  0.0   \n",
       "536367       ...                  0.0                  0.0   \n",
       "536368       ...                  0.0                  0.0   \n",
       "536369       ...                  0.0                  0.0   \n",
       "536371       ...                  0.0                  0.0   \n",
       "536372       ...                  0.0                  0.0   \n",
       "536373       ...                  0.0                  0.0   \n",
       "536374       ...                  0.0                  0.0   \n",
       "536375       ...                  0.0                  0.0   \n",
       "\n",
       "Description  wrongly coded-23343  wrongly marked  wrongly marked 23343  \\\n",
       "InvoiceNo                                                                \n",
       "536365                       0.0             0.0                   0.0   \n",
       "536366                       0.0             0.0                   0.0   \n",
       "536367                       0.0             0.0                   0.0   \n",
       "536368                       0.0             0.0                   0.0   \n",
       "536369                       0.0             0.0                   0.0   \n",
       "536371                       0.0             0.0                   0.0   \n",
       "536372                       0.0             0.0                   0.0   \n",
       "536373                       0.0             0.0                   0.0   \n",
       "536374                       0.0             0.0                   0.0   \n",
       "536375                       0.0             0.0                   0.0   \n",
       "\n",
       "Description  wrongly marked carton 22804  wrongly marked. 23343 in box  \\\n",
       "InvoiceNo                                                                \n",
       "536365                               0.0                           0.0   \n",
       "536366                               0.0                           0.0   \n",
       "536367                               0.0                           0.0   \n",
       "536368                               0.0                           0.0   \n",
       "536369                               0.0                           0.0   \n",
       "536371                               0.0                           0.0   \n",
       "536372                               0.0                           0.0   \n",
       "536373                               0.0                           0.0   \n",
       "536374                               0.0                           0.0   \n",
       "536375                               0.0                           0.0   \n",
       "\n",
       "Description  wrongly sold (22719) barcode  wrongly sold as sets  \\\n",
       "InvoiceNo                                                         \n",
       "536365                                0.0                   0.0   \n",
       "536366                                0.0                   0.0   \n",
       "536367                                0.0                   0.0   \n",
       "536368                                0.0                   0.0   \n",
       "536369                                0.0                   0.0   \n",
       "536371                                0.0                   0.0   \n",
       "536372                                0.0                   0.0   \n",
       "536373                                0.0                   0.0   \n",
       "536374                                0.0                   0.0   \n",
       "536375                                0.0                   0.0   \n",
       "\n",
       "Description  wrongly sold sets  \n",
       "InvoiceNo                       \n",
       "536365                     0.0  \n",
       "536366                     0.0  \n",
       "536367                     0.0  \n",
       "536368                     0.0  \n",
       "536369                     0.0  \n",
       "536371                     0.0  \n",
       "536372                     0.0  \n",
       "536373                     0.0  \n",
       "536374                     0.0  \n",
       "536375                     0.0  \n",
       "\n",
       "[10 rows x 4189 columns]"
      ]
     },
     "execution_count": 12,
     "metadata": {},
     "output_type": "execute_result"
    }
   ],
   "source": [
    "basket.head(10)"
   ]
  },
  {
   "cell_type": "markdown",
   "id": "99de3645",
   "metadata": {},
   "source": [
    "7. Chuyển đổi dữ liệu từ dạng hot encoding thành one-hot encoding.\n",
    "Tạo hàm biến đổi mỗi điểm dữ liệu có số lượng (Quantity) lớn hơn 0 thành 1"
   ]
  },
  {
   "cell_type": "code",
   "execution_count": 13,
   "id": "5abb478a",
   "metadata": {},
   "outputs": [],
   "source": [
    "def encode_data(datapoint):\n",
    "    if(datapoint)<=0:\n",
    "        return 0\n",
    "    if(datapoint)>=1:\n",
    "        return 1"
   ]
  },
  {
   "cell_type": "markdown",
   "id": "b7b1804d",
   "metadata": {},
   "source": [
    "Chuyển đổi dữ liệu từ dạng hot encoding thành one-hot encoding"
   ]
  },
  {
   "cell_type": "code",
   "execution_count": 15,
   "id": "9a891c32",
   "metadata": {},
   "outputs": [],
   "source": [
    "basket = basket.map(encode_data)"
   ]
  },
  {
   "cell_type": "markdown",
   "id": "e4751d25",
   "metadata": {},
   "source": [
    "8. Do cột ‘POSTAGE’ là tiền cước phí trên mỗi hóa đơn nên cần xóa nó đi.\n",
    "Xóa cột 'POSTAGE'"
   ]
  },
  {
   "cell_type": "code",
   "execution_count": 17,
   "id": "f0537789",
   "metadata": {},
   "outputs": [],
   "source": [
    "basket.drop('POSTAGE',inplace=True,axis=1)"
   ]
  },
  {
   "cell_type": "markdown",
   "id": "c31b696a",
   "metadata": {},
   "source": [
    "9. Tìm tập phổ biến bằng thuật toán Apriori với min_sup = 3%.\n",
    "Áp dụng thuật toán Apriori với min_sup = 3% để tìm tập phổ biến"
   ]
  },
  {
   "cell_type": "code",
   "execution_count": 18,
   "id": "28c9da4b",
   "metadata": {},
   "outputs": [
    {
     "name": "stderr",
     "output_type": "stream",
     "text": [
      "c:\\Users\\DELL\\AppData\\Local\\Programs\\Python\\Python311\\Lib\\site-packages\\mlxtend\\frequent_patterns\\fpcommon.py:109: DeprecationWarning: DataFrames with non-bool types result in worse computationalperformance and their support might be discontinued in the future.Please use a DataFrame with bool type\n",
      "  warnings.warn(\n"
     ]
    }
   ],
   "source": [
    "itemset = apriori(basket,min_support=0.03,use_colnames=True)"
   ]
  },
  {
   "cell_type": "code",
   "execution_count": 19,
   "id": "b38f2a2b",
   "metadata": {},
   "outputs": [
    {
     "data": {
      "text/html": [
       "<div>\n",
       "<style scoped>\n",
       "    .dataframe tbody tr th:only-of-type {\n",
       "        vertical-align: middle;\n",
       "    }\n",
       "\n",
       "    .dataframe tbody tr th {\n",
       "        vertical-align: top;\n",
       "    }\n",
       "\n",
       "    .dataframe thead th {\n",
       "        text-align: right;\n",
       "    }\n",
       "</style>\n",
       "<table border=\"1\" class=\"dataframe\">\n",
       "  <thead>\n",
       "    <tr style=\"text-align: right;\">\n",
       "      <th></th>\n",
       "      <th>support</th>\n",
       "      <th>itemsets</th>\n",
       "    </tr>\n",
       "  </thead>\n",
       "  <tbody>\n",
       "    <tr>\n",
       "      <th>0</th>\n",
       "      <td>0.038795</td>\n",
       "      <td>(6 RIBBONS RUSTIC CHARM)</td>\n",
       "    </tr>\n",
       "    <tr>\n",
       "      <th>1</th>\n",
       "      <td>0.034167</td>\n",
       "      <td>(60 TEATIME FAIRY CAKE CASES)</td>\n",
       "    </tr>\n",
       "    <tr>\n",
       "      <th>2</th>\n",
       "      <td>0.039748</td>\n",
       "      <td>(ALARM CLOCK BAKELIKE GREEN)</td>\n",
       "    </tr>\n",
       "    <tr>\n",
       "      <th>3</th>\n",
       "      <td>0.042198</td>\n",
       "      <td>(ALARM CLOCK BAKELIKE RED)</td>\n",
       "    </tr>\n",
       "    <tr>\n",
       "      <th>4</th>\n",
       "      <td>0.030673</td>\n",
       "      <td>(ANTIQUE SILVER T-LIGHT GLASS)</td>\n",
       "    </tr>\n",
       "    <tr>\n",
       "      <th>5</th>\n",
       "      <td>0.062208</td>\n",
       "      <td>(ASSORTED COLOUR BIRD ORNAMENT)</td>\n",
       "    </tr>\n",
       "    <tr>\n",
       "      <th>6</th>\n",
       "      <td>0.035800</td>\n",
       "      <td>(BAKING SET 9 PIECE RETROSPOT)</td>\n",
       "    </tr>\n",
       "    <tr>\n",
       "      <th>7</th>\n",
       "      <td>0.030582</td>\n",
       "      <td>(CHARLOTTE BAG PINK POLKADOT)</td>\n",
       "    </tr>\n",
       "    <tr>\n",
       "      <th>8</th>\n",
       "      <td>0.036481</td>\n",
       "      <td>(CHARLOTTE BAG SUKI DESIGN)</td>\n",
       "    </tr>\n",
       "    <tr>\n",
       "      <th>9</th>\n",
       "      <td>0.037207</td>\n",
       "      <td>(CHOCOLATE HOT WATER BOTTLE)</td>\n",
       "    </tr>\n",
       "  </tbody>\n",
       "</table>\n",
       "</div>"
      ],
      "text/plain": [
       "    support                         itemsets\n",
       "0  0.038795         (6 RIBBONS RUSTIC CHARM)\n",
       "1  0.034167    (60 TEATIME FAIRY CAKE CASES)\n",
       "2  0.039748     (ALARM CLOCK BAKELIKE GREEN)\n",
       "3  0.042198       (ALARM CLOCK BAKELIKE RED)\n",
       "4  0.030673   (ANTIQUE SILVER T-LIGHT GLASS)\n",
       "5  0.062208  (ASSORTED COLOUR BIRD ORNAMENT)\n",
       "6  0.035800   (BAKING SET 9 PIECE RETROSPOT)\n",
       "7  0.030582    (CHARLOTTE BAG PINK POLKADOT)\n",
       "8  0.036481      (CHARLOTTE BAG SUKI DESIGN)\n",
       "9  0.037207     (CHOCOLATE HOT WATER BOTTLE)"
      ]
     },
     "execution_count": 19,
     "metadata": {},
     "output_type": "execute_result"
    }
   ],
   "source": [
    "itemset.head(10)"
   ]
  },
  {
   "cell_type": "markdown",
   "id": "c7bd63a6",
   "metadata": {},
   "source": [
    "10. Tạo luật kết hợp với min_conf = 50% và in ra các luật này.\n",
    "Tạo luật kết hợp với min_conf = 50%"
   ]
  },
  {
   "cell_type": "code",
   "execution_count": 20,
   "id": "2a4a2af6",
   "metadata": {},
   "outputs": [],
   "source": [
    "rules = association_rules(itemset,metric=\"confidence\",min_threshold=0.5)"
   ]
  },
  {
   "cell_type": "markdown",
   "id": "9474abf6",
   "metadata": {},
   "source": [
    "Xem thông tin về tập luật"
   ]
  },
  {
   "cell_type": "code",
   "execution_count": 21,
   "id": "67eb8839",
   "metadata": {},
   "outputs": [
    {
     "name": "stdout",
     "output_type": "stream",
     "text": [
      "<class 'pandas.core.frame.DataFrame'>\n",
      "RangeIndex: 4 entries, 0 to 3\n",
      "Data columns (total 10 columns):\n",
      " #   Column              Non-Null Count  Dtype  \n",
      "---  ------              --------------  -----  \n",
      " 0   antecedents         4 non-null      object \n",
      " 1   consequents         4 non-null      object \n",
      " 2   antecedent support  4 non-null      float64\n",
      " 3   consequent support  4 non-null      float64\n",
      " 4   support             4 non-null      float64\n",
      " 5   confidence          4 non-null      float64\n",
      " 6   lift                4 non-null      float64\n",
      " 7   leverage            4 non-null      float64\n",
      " 8   conviction          4 non-null      float64\n",
      " 9   zhangs_metric       4 non-null      float64\n",
      "dtypes: float64(8), object(2)\n",
      "memory usage: 452.0+ bytes\n"
     ]
    }
   ],
   "source": [
    "rules.info()"
   ]
  },
  {
   "cell_type": "markdown",
   "id": "17355bcb",
   "metadata": {},
   "source": [
    "Chuyển đổi vế trái và vế phải từ kiểu object (frozenset) về kiểu chuỗi (unicode)"
   ]
  },
  {
   "cell_type": "code",
   "execution_count": 22,
   "id": "d8f64c7d",
   "metadata": {},
   "outputs": [],
   "source": [
    "rules[\"antecedents\"]=rules[\"antecedents\"].apply(lambda x:list(x)[0]).astype(\"unicode\")\n",
    "rules[\"consequents\"]=rules[\"consequents\"].apply(lambda x:list(x)[0]).astype(\"unicode\")"
   ]
  },
  {
   "cell_type": "markdown",
   "id": "befe6876",
   "metadata": {},
   "source": [
    "Viết lệnh in ra các luật đã tìm được"
   ]
  },
  {
   "cell_type": "code",
   "execution_count": 24,
   "id": "8f48b50b",
   "metadata": {},
   "outputs": [
    {
     "name": "stdout",
     "output_type": "stream",
     "text": [
      "ROSES REGENCY TEACUP AND SAUCER ==> GREEN REGENCY TEACUP AND SAUCER [ 0.03180725078270339 , 0.03180725078270339 ]\n",
      "GREEN REGENCY TEACUP AND SAUCER ==> ROSES REGENCY TEACUP AND SAUCER [ 0.03180725078270339 , 0.03180725078270339 ]\n",
      "JUMBO BAG PINK POLKADOT ==> JUMBO BAG RED RETROSPOT [ 0.035618675983483825 , 0.035618675983483825 ]\n",
      "JUMBO STORAGE BAG SUKI ==> JUMBO BAG RED RETROSPOT [ 0.03167112845410409 , 0.03167112845410409 ]\n"
     ]
    }
   ],
   "source": [
    "for i in range(len(rules)):\n",
    "    print(rules.loc[i,'antecedents'],\"==>\",rules.loc[i,'consequents'],'[',rules.loc[i,'support'],',',rules.loc[i,'support'],']')"
   ]
  },
  {
   "cell_type": "markdown",
   "id": "0a84bf15",
   "metadata": {},
   "source": [
    "11. Biểu diễn độ tin cậy, độ hỗ trợ của tập luật lên đồ thị phân tán (scatter plot).\n",
    "Lấy giá trị độ hỗ trợ và độ tin cậy của luật"
   ]
  },
  {
   "cell_type": "code",
   "execution_count": 25,
   "id": "0269ad7a",
   "metadata": {},
   "outputs": [],
   "source": [
    "support = rules['support'].values\n",
    "confidence = rules['confidence'].values"
   ]
  },
  {
   "cell_type": "markdown",
   "id": "1c29455f",
   "metadata": {},
   "source": [
    "Biểu diễn các thông tin này lên biểu đồ và kết quả thu được"
   ]
  },
  {
   "cell_type": "code",
   "execution_count": 26,
   "id": "6e98ea07",
   "metadata": {},
   "outputs": [
    {
     "data": {
      "text/plain": [
       "<Axes: title={'center': 'Assocation Rules'}, xlabel='support', ylabel='confidence'>"
      ]
     },
     "execution_count": 26,
     "metadata": {},
     "output_type": "execute_result"
    },
    {
     "data": {
      "image/png": "[encoded data removed]",
      "text/plain": [
       "<Figure size 600x600 with 1 Axes>"
      ]
     },
     "metadata": {},
     "output_type": "display_data"
    }
   ],
   "source": [
    "plt.figure(figsize=(6,6))\n",
    "plt.title('Assocation Rules')\n",
    "plt.xlabel('support')\n",
    "plt.ylabel('confidence')\n",
    "sns.regplot(x=support,y=confidence, fit_reg=False)"
   ]
  },
  {
   "cell_type": "markdown",
   "id": "b45c6d26",
   "metadata": {},
   "source": [
    "12. Tìm tập phổ biến và luật kết hợp bằng thuật toán FP-Growth với min_sup = 3%, min_conf = 50%. So sánh kết quả với thuật toán Apriori ở trên.\n"
   ]
  },
  {
   "cell_type": "markdown",
   "id": "ca10185d",
   "metadata": {},
   "source": [
    "Import module fpgrowth từ thư viện mlxtend và thực hiện tìm tập phổ biến bằng thuật toán FP-Growth"
   ]
  },
  {
   "cell_type": "code",
   "execution_count": 27,
   "id": "e1067c87",
   "metadata": {},
   "outputs": [
    {
     "name": "stderr",
     "output_type": "stream",
     "text": [
      "c:\\Users\\DELL\\AppData\\Local\\Programs\\Python\\Python311\\Lib\\site-packages\\mlxtend\\frequent_patterns\\fpcommon.py:109: DeprecationWarning: DataFrames with non-bool types result in worse computationalperformance and their support might be discontinued in the future.Please use a DataFrame with bool type\n",
      "  warnings.warn(\n"
     ]
    }
   ],
   "source": [
    "from mlxtend.frequent_patterns import fpgrowth\n",
    "itemsets = fpgrowth(basket, min_support=0.03, use_colnames=True)"
   ]
  },
  {
   "cell_type": "markdown",
   "id": "2556bb76",
   "metadata": {},
   "source": [
    "Tạo luật kết hợp"
   ]
  },
  {
   "cell_type": "code",
   "execution_count": 28,
   "id": "da49f979",
   "metadata": {},
   "outputs": [],
   "source": [
    "rules = association_rules(itemset,metric=\"confidence\",min_threshold=0.5)"
   ]
  },
  {
   "cell_type": "markdown",
   "id": "67a766e1",
   "metadata": {},
   "source": [
    "Xem thông tin về tập luật"
   ]
  },
  {
   "cell_type": "code",
   "execution_count": 29,
   "id": "54861fde",
   "metadata": {},
   "outputs": [
    {
     "name": "stdout",
     "output_type": "stream",
     "text": [
      "<class 'pandas.core.frame.DataFrame'>\n",
      "RangeIndex: 4 entries, 0 to 3\n",
      "Data columns (total 10 columns):\n",
      " #   Column              Non-Null Count  Dtype  \n",
      "---  ------              --------------  -----  \n",
      " 0   antecedents         4 non-null      object \n",
      " 1   consequents         4 non-null      object \n",
      " 2   antecedent support  4 non-null      float64\n",
      " 3   consequent support  4 non-null      float64\n",
      " 4   support             4 non-null      float64\n",
      " 5   confidence          4 non-null      float64\n",
      " 6   lift                4 non-null      float64\n",
      " 7   leverage            4 non-null      float64\n",
      " 8   conviction          4 non-null      float64\n",
      " 9   zhangs_metric       4 non-null      float64\n",
      "dtypes: float64(8), object(2)\n",
      "memory usage: 452.0+ bytes\n"
     ]
    }
   ],
   "source": [
    "rules.info()"
   ]
  },
  {
   "cell_type": "markdown",
   "id": "247780ab",
   "metadata": {},
   "source": [
    "Chuyển đổi vế trái và vế phải từ kiểu object (frozenset) về kiểu chuỗi (unicode)"
   ]
  },
  {
   "cell_type": "code",
   "execution_count": 30,
   "id": "8120ce01",
   "metadata": {},
   "outputs": [],
   "source": [
    "rules[\"antecedents\"]=rules[\"antecedents\"].apply(lambda x:list(x)[0]).astype(\"unicode\")\n",
    "rules[\"consequents\"]=rules[\"consequents\"].apply(lambda x:list(x)[0]).astype(\"unicode\")"
   ]
  },
  {
   "cell_type": "markdown",
   "id": "6677d185",
   "metadata": {},
   "source": [
    "Viết lệnh in ra các luật đã tìm được"
   ]
  },
  {
   "cell_type": "code",
   "execution_count": 31,
   "id": "c648dad8",
   "metadata": {},
   "outputs": [
    {
     "name": "stdout",
     "output_type": "stream",
     "text": [
      "ROSES REGENCY TEACUP AND SAUCER ==> GREEN REGENCY TEACUP AND SAUCER [ 0.03180725078270339 , 0.03180725078270339 ]\n",
      "GREEN REGENCY TEACUP AND SAUCER ==> ROSES REGENCY TEACUP AND SAUCER [ 0.03180725078270339 , 0.03180725078270339 ]\n",
      "JUMBO BAG PINK POLKADOT ==> JUMBO BAG RED RETROSPOT [ 0.035618675983483825 , 0.035618675983483825 ]\n",
      "JUMBO STORAGE BAG SUKI ==> JUMBO BAG RED RETROSPOT [ 0.03167112845410409 , 0.03167112845410409 ]\n"
     ]
    }
   ],
   "source": [
    "for i in range(len(rules)):\n",
    "    print(rules.loc[i,'antecedents'],\"==>\",rules.loc[i,'consequents'],'[',rules.loc[i,'support'],',',rules.loc[i,'support'],']')"
   ]
  },
  {
   "cell_type": "markdown",
   "id": "13db907c",
   "metadata": {},
   "source": [
    "Lấy giá trị độ hỗ trợ và độ tin cậy của luật\n",
    "\n"
   ]
  },
  {
   "cell_type": "code",
   "execution_count": 32,
   "id": "721f002f",
   "metadata": {},
   "outputs": [],
   "source": [
    "support = rules['support'].values\n",
    "confidence = rules['confidence'].values"
   ]
  },
  {
   "cell_type": "markdown",
   "id": "522a0a03",
   "metadata": {},
   "source": [
    "Biểu diễn các thông tin này lên biểu đồ và kết quả thu được\n",
    "\n"
   ]
  },
  {
   "cell_type": "code",
   "execution_count": 33,
   "id": "236034b0",
   "metadata": {},
   "outputs": [
    {
     "data": {
      "text/plain": [
       "<Axes: title={'center': 'Assocation Rules'}, xlabel='support', ylabel='confidence'>"
      ]
     },
     "execution_count": 33,
     "metadata": {},
     "output_type": "execute_result"
    },
    {
     "data": {
      "image/png": "[encoded data removed]",
      "text/plain": [
       "<Figure size 600x600 with 1 Axes>"
      ]
     },
     "metadata": {},
     "output_type": "display_data"
    }
   ],
   "source": [
    "plt.figure(figsize=(6,6))\n",
    "plt.title('Assocation Rules')\n",
    "plt.xlabel('support')\n",
    "plt.ylabel('confidence')\n",
    "sns.regplot(x=support,y=confidence, fit_reg=False)"
   ]
  },
  {
   "cell_type": "markdown",
   "id": "a7350998",
   "metadata": {},
   "source": [
    "Kết luận: Hai thuộc tính này không tương quan. <br>\n",
    "Kết quả giống với Apriori."
   ]
  },
  {
   "cell_type": "markdown",
   "id": "f19643d3",
   "metadata": {},
   "source": []
  }
 ],
 "metadata": {
  "kernelspec": {
   "display_name": "Python 3 (ipykernel)",
   "language": "python",
   "name": "python3"
  },
  "language_info": {
   "codemirror_mode": {
    "name": "ipython",
    "version": 3
   },
   "file_extension": ".py",
   "mimetype": "text/x-python",
   "name": "python",
   "nbconvert_exporter": "python",
   "pygments_lexer": "ipython3",
   "version": "3.11.8"
  }
 },
 "nbformat": 4,
 "nbformat_minor": 5
}
